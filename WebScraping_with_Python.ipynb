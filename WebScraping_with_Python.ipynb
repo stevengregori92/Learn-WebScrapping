{
  "nbformat": 4,
  "nbformat_minor": 0,
  "metadata": {
    "colab": {
      "provenance": [],
      "authorship_tag": "ABX9TyNKHumrErOmF8iMOyFvp+Vl",
      "include_colab_link": true
    },
    "kernelspec": {
      "name": "python3",
      "display_name": "Python 3"
    },
    "language_info": {
      "name": "python"
    }
  },
  "cells": [
    {
      "cell_type": "markdown",
      "metadata": {
        "id": "view-in-github",
        "colab_type": "text"
      },
      "source": [
        "<a href=\"https://colab.research.google.com/github/stevengregori92/Learn-WebScrapping/blob/main/WebScraping_with_Python.ipynb\" target=\"_parent\"><img src=\"https://colab.research.google.com/assets/colab-badge.svg\" alt=\"Open In Colab\"/></a>"
      ]
    },
    {
      "cell_type": "code",
      "execution_count": null,
      "metadata": {
        "id": "rPErFjtAopXh"
      },
      "outputs": [],
      "source": [
        "from bs4 import BeautifulSoup"
      ]
    },
    {
      "cell_type": "code",
      "source": [
        "with open('index.html', 'r') as f:\n",
        "  doc = BeautifulSoup(f,'html.parser')\n",
        "\n",
        "print(doc.prettify())"
      ],
      "metadata": {
        "colab": {
          "base_uri": "https://localhost:8080/"
        },
        "id": "mZ4DcAadwXGx",
        "outputId": "5e62acdb-cc58-417a-d698-4eb8e64c0d2d"
      },
      "execution_count": null,
      "outputs": [
        {
          "output_type": "stream",
          "name": "stdout",
          "text": [
            "<html>\n",
            " <head>\n",
            "  <title>\n",
            "   Your Title Here\n",
            "  </title>\n",
            " </head>\n",
            " <body bgcolor=\"FFFFFF\">\n",
            "  <center>\n",
            "   <img align=\"BOTTOM\" src=\"clouds.jpg\"/>\n",
            "  </center>\n",
            "  <hr/>\n",
            "  <a href=\"http://somegreatsite.com\">\n",
            "   Link Name\n",
            "  </a>\n",
            "  is a link to another nifty site\n",
            "  <h1>\n",
            "   This is a Header\n",
            "  </h1>\n",
            "  <h2>\n",
            "   This is a Medium Header\n",
            "  </h2>\n",
            "  Send me mail at\n",
            "  <a href=\"mailto:support@yourcompany.com\">\n",
            "   support@yourcompany.com\n",
            "  </a>\n",
            "  .\n",
            "  <p>\n",
            "   This is a new paragraph!\n",
            "   <p>\n",
            "    <b color=\"red\">\n",
            "     This is a new paragraph!\n",
            "    </b>\n",
            "    <br/>\n",
            "    <b>\n",
            "     <i>\n",
            "      This is a new sentence without a paragraph break, in bold italics.\n",
            "     </i>\n",
            "    </b>\n",
            "    <hr/>\n",
            "   </p>\n",
            "  </p>\n",
            " </body>\n",
            "</html>\n",
            "\n"
          ]
        }
      ]
    },
    {
      "cell_type": "code",
      "source": [
        "tag = doc.title\n",
        "print(tag.string)"
      ],
      "metadata": {
        "colab": {
          "base_uri": "https://localhost:8080/"
        },
        "id": "eRmqPmzwxP9k",
        "outputId": "395cd7ce-3c5c-4274-ecab-b3143d8ce33e"
      },
      "execution_count": null,
      "outputs": [
        {
          "output_type": "stream",
          "name": "stdout",
          "text": [
            "Your Title Here\n"
          ]
        }
      ]
    },
    {
      "cell_type": "code",
      "source": [
        "tag.string = \"Hello\"\n",
        "print(tag)"
      ],
      "metadata": {
        "colab": {
          "base_uri": "https://localhost:8080/"
        },
        "id": "Nxrl_40Bxso5",
        "outputId": "79b6bc3c-8ae0-42d5-e420-c1088a7d4281"
      },
      "execution_count": null,
      "outputs": [
        {
          "output_type": "stream",
          "name": "stdout",
          "text": [
            "<title>Hello</title>\n"
          ]
        }
      ]
    },
    {
      "cell_type": "code",
      "source": [
        "tags = doc.find_all('p')[0]\n",
        "\n",
        "print(doc.find_all('b'))"
      ],
      "metadata": {
        "id": "h7aiu_mCyNRl",
        "colab": {
          "base_uri": "https://localhost:8080/"
        },
        "outputId": "405aa5c9-38a7-456d-ea4e-0946c6b4f445"
      },
      "execution_count": null,
      "outputs": [
        {
          "output_type": "stream",
          "name": "stdout",
          "text": [
            "[<b color=\"red\">This is a new paragraph!</b>, <b><i>This is a new sentence without a paragraph break, in bold italics.</i></b>]\n"
          ]
        }
      ]
    }
  ]
}